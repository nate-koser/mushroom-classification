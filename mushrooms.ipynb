{
 "cells": [
  {
   "cell_type": "markdown",
   "id": "3e953bbc",
   "metadata": {},
   "source": [
    "# Predicting the edibility of mushrooms \n",
    "<img src=\"unknown-mushroom.jpg\" width=\"200\" align=\"left\" style = \"padding: 0px 10px 10px 0px;\">  \n",
    "\n",
    "\n",
    "\n",
    "\n",
    "Have you ever been walking around outside, seen a mushroom growing somewhere and wondered, \"What would happen if I ate that?\" Well, let's try and see if some features of mushrooms could be used to determine their edibility!* I compare the performance of several supervised machine learning models in their ability to predict whether a given mushroom is poisonous or not, using odor and habitat as predictors. \n",
    "\n",
    "**Discalimer: Do not eat mushrooms that you find growing outside*\n",
    "\n",
    "First make sure you have the necessary dependencies:"
   ]
  },
  {
   "cell_type": "code",
   "execution_count": 1,
   "id": "7a4ce2c1",
   "metadata": {},
   "outputs": [],
   "source": [
    "import pandas as pd\n",
    "import numpy as np\n",
    "import pandas as pd\n",
    "import matplotlib.pyplot as plt\n",
    "from sklearn.model_selection import train_test_split\n",
    "from sklearn.neighbors import KNeighborsClassifier\n",
    "from sklearn.metrics import classification_report, confusion_matrix\n",
    "from sklearn.linear_model import LogisticRegression, PassiveAggressiveClassifier\n",
    "from sklearn.svm import SVC"
   ]
  },
  {
   "cell_type": "markdown",
   "id": "861b51a2",
   "metadata": {},
   "source": [
    "Now we need our dataset. You can find it here: \n",
    "\n",
    "https://archive.ics.uci.edu/ml/datasets/Mushroom\n",
    "\n",
    "Load it up: "
   ]
  },
  {
   "cell_type": "code",
   "execution_count": 2,
   "id": "25ba2182",
   "metadata": {},
   "outputs": [],
   "source": [
    "shrooms = pd.read_csv('agaricus-lepiota.data',header=0)"
   ]
  },
  {
   "cell_type": "markdown",
   "id": "f82f1ce3",
   "metadata": {},
   "source": [
    "There are a number of interesting features, but I'm going to focus on odor and habitat as predictors of edibility. Let's see what these look like:"
   ]
  },
  {
   "cell_type": "code",
   "execution_count": 3,
   "id": "24eaba88",
   "metadata": {},
   "outputs": [
    {
     "name": "stdout",
     "output_type": "stream",
     "text": [
      "['p' 'e']\n",
      "['p' 'a' 'l' 'n' 'f' 'c' 'y' 's' 'm']\n",
      "['u' 'g' 'm' 'd' 'p' 'w' 'l']\n"
     ]
    }
   ],
   "source": [
    "print(shrooms.edible.unique())\n",
    "print(shrooms.odor.unique())\n",
    "print(shrooms.habitat.unique())"
   ]
  },
  {
   "cell_type": "markdown",
   "id": "23a5b029",
   "metadata": {},
   "source": [
    "Okay so, the ```edible``` column contains values ```p``` for poisonous or ```e``` for edible. We can look at the link to the dataset above to decode the others.\n",
    "\n",
    "| Odor               | Habitat     |\n",
    "| :-----------        | :----------- |\n",
    "| ```p``` : pungeant | ```u``` : urban       |\n",
    "| ```a``` : almond   | ```g``` : grasses        |\n",
    "| ```l``` : anise    | ```m``` : meadows       |\n",
    "| ```n``` : none     | ```d``` : woods        |\n",
    "| ```f``` : foul     | ```p``` : paths       |\n",
    "| ```c``` : creosote | ```w``` : waste        |\n",
    "| ```y``` : fishy    | ```l``` : leaves      |\n",
    "| ```s``` : spicy    |         |\n",
    "| ```m``` : musty    |  |"
   ]
  },
  {
   "cell_type": "markdown",
   "id": "255f578c",
   "metadata": {},
   "source": [
    "Let's get a sense of how each odor and habitat category break down into edible and poisonous. Create a count of each for each odor: "
   ]
  },
  {
   "cell_type": "code",
   "execution_count": 4,
   "id": "df11438d",
   "metadata": {},
   "outputs": [
    {
     "name": "stdout",
     "output_type": "stream",
     "text": [
      "[2160, 256, 576, 120, 0, 0, 192, 576, 36]\n",
      "[0, 0, 0, 3408, 400, 400, 0, 0, 0]\n"
     ]
    }
   ],
   "source": [
    "odorf = ((((shrooms['edible'] == 'p') & (shrooms['odor'] == 'f')).cumsum()).tolist())[-1]\n",
    "odorp = ((((shrooms['edible'] == 'p') & (shrooms['odor'] == 'p')).cumsum()).tolist())[-1]\n",
    "odors = ((((shrooms['edible'] == 'p') & (shrooms['odor'] == 's')).cumsum()).tolist())[-1]\n",
    "odorn = ((((shrooms['edible'] == 'p') & (shrooms['odor'] == 'n')).cumsum()).tolist())[-1]\n",
    "odora = ((((shrooms['edible'] == 'p') & (shrooms['odor'] == 'a')).cumsum()).tolist())[-1]\n",
    "odorl = ((((shrooms['edible'] == 'p') & (shrooms['odor'] == 'l')).cumsum()).tolist())[-1]\n",
    "odorc = ((((shrooms['edible'] == 'p') & (shrooms['odor'] == 'c')).cumsum()).tolist())[-1]\n",
    "odory = ((((shrooms['edible'] == 'p') & (shrooms['odor'] == 'y')).cumsum()).tolist())[-1]\n",
    "odorm = ((((shrooms['edible'] == 'p') & (shrooms['odor'] == 'm')).cumsum()).tolist())[-1]\n",
    "\n",
    "odorf_e = ((((shrooms['edible'] == 'e') & (shrooms['odor'] == 'f')).cumsum()).tolist())[-1]\n",
    "odorp_e = ((((shrooms['edible'] == 'e') & (shrooms['odor'] == 'p')).cumsum()).tolist())[-1]\n",
    "odors_e = ((((shrooms['edible'] == 'e') & (shrooms['odor'] == 's')).cumsum()).tolist())[-1]\n",
    "odorn_e = ((((shrooms['edible'] == 'e') & (shrooms['odor'] == 'n')).cumsum()).tolist())[-1]\n",
    "odora_e = ((((shrooms['edible'] == 'e') & (shrooms['odor'] == 'a')).cumsum()).tolist())[-1]\n",
    "odorl_e = ((((shrooms['edible'] == 'e') & (shrooms['odor'] == 'l')).cumsum()).tolist())[-1]\n",
    "odorc_e = ((((shrooms['edible'] == 'e') & (shrooms['odor'] == 'c')).cumsum()).tolist())[-1]\n",
    "odory_e = ((((shrooms['edible'] == 'e') & (shrooms['odor'] == 'y')).cumsum()).tolist())[-1]\n",
    "odorm_e = ((((shrooms['edible'] == 'e') & (shrooms['odor'] == 'm')).cumsum()).tolist())[-1]\n",
    "\n",
    "poison_vals_odor = [odorf, odorp, odors, odorn, odora, odorl, odorc, odory, odorm]\n",
    "edible_vals_odor = [odorf_e, odorp_e, odors_e, odorn_e, odora_e, odorl_e, odorc_e, odory_e, odorm_e]\n",
    "\n",
    "print(poison_vals_odor)\n",
    "print(edible_vals_odor)"
   ]
  },
  {
   "cell_type": "markdown",
   "id": "efee0ee9",
   "metadata": {},
   "source": [
    "Create a stacked barplot to visualize:"
   ]
  },
  {
   "cell_type": "code",
   "execution_count": 5,
   "id": "db3fa202",
   "metadata": {},
   "outputs": [
    {
     "data": {
      "image/png": "[encoded data removed]",
      "text/plain": [
       "<Figure size 432x288 with 1 Axes>"
      ]
     },
     "metadata": {
      "needs_background": "light"
     },
     "output_type": "display_data"
    }
   ],
   "source": [
    "bar_labs_odor = [\"Foul\", \"Pungeant\", \"Spicy\", \"Neutral\", \"Almond\", \"Anise\", \"Creosote\", \"Fishy\", \"Musty\"]   #wanna count how many of each col are e or p to make the stack\n",
    "\n",
    "fig, ax = plt.subplots()\n",
    "\n",
    "ax.bar(bar_labs_odor, poison_vals_odor, width = 0.4, label='Poisonous', color = 'steelblue', zorder = 3)\n",
    "ax.bar(bar_labs_odor, edible_vals_odor, width = 0.4, bottom=poison_vals_odor, label='Edible', color = 'lightcoral', zorder =3)\n",
    "\n",
    "ax.set_ylabel('Counts')\n",
    "ax.set_title('Edibility of mushroom species by odor')\n",
    "ax.legend()\n",
    "\n",
    "plt.xticks(rotation = 45)\n",
    "plt.grid(True, alpha = .4, zorder = 0)\n",
    "ax.set_ylim([0, 4000])\n",
    "\n",
    "plt.show()"
   ]
  },
  {
   "cell_type": "markdown",
   "id": "4a5ae0d0",
   "metadata": {},
   "source": [
    "Here we can see that it's really quite cut and dry - mushrooms with a foul, pungeant, spicy, creosote (wood burning), fishy, or musty scent are categorically poisonous. Almond and anise-scented mushrooms are categorically edible. The only overlap occurs in neutral-scented mushrooms. I expect the models we create will be able to classify quite effectively, given the stark contrast. Let's try the same thing for habitats: "
   ]
  },
  {
   "cell_type": "code",
   "execution_count": 6,
   "id": "5e57f38f",
   "metadata": {},
   "outputs": [
    {
     "name": "stdout",
     "output_type": "stream",
     "text": [
      "[272, 0, 1268, 740, 592, 36, 1008]\n",
      "[96, 192, 1880, 1408, 240, 256, 136]\n"
     ]
    },
    {
     "data": {
      "image/png": "[encoded data removed]",
      "text/plain": [
       "<Figure size 432x288 with 1 Axes>"
      ]
     },
     "metadata": {
      "needs_background": "light"
     },
     "output_type": "display_data"
    }
   ],
   "source": [
    "habu = ((((shrooms['edible'] == 'p') & (shrooms['habitat'] == 'u')).cumsum()).tolist())[-1]\n",
    "habw = ((((shrooms['edible'] == 'p') & (shrooms['habitat'] == 'w')).cumsum()).tolist())[-1]\n",
    "habd = ((((shrooms['edible'] == 'p') & (shrooms['habitat'] == 'd')).cumsum()).tolist())[-1]\n",
    "habg = ((((shrooms['edible'] == 'p') & (shrooms['habitat'] == 'g')).cumsum()).tolist())[-1]\n",
    "habl = ((((shrooms['edible'] == 'p') & (shrooms['habitat'] == 'l')).cumsum()).tolist())[-1]\n",
    "habm = ((((shrooms['edible'] == 'p') & (shrooms['habitat'] == 'm')).cumsum()).tolist())[-1]\n",
    "habp = ((((shrooms['edible'] == 'p') & (shrooms['habitat'] == 'p')).cumsum()).tolist())[-1]\n",
    "\n",
    "habu_e = ((((shrooms['edible'] == 'e') & (shrooms['habitat'] == 'u')).cumsum()).tolist())[-1]\n",
    "habw_e = ((((shrooms['edible'] == 'e') & (shrooms['habitat'] == 'w')).cumsum()).tolist())[-1]\n",
    "habd_e = ((((shrooms['edible'] == 'e') & (shrooms['habitat'] == 'd')).cumsum()).tolist())[-1]\n",
    "habg_e = ((((shrooms['edible'] == 'e') & (shrooms['habitat'] == 'g')).cumsum()).tolist())[-1]\n",
    "habl_e = ((((shrooms['edible'] == 'e') & (shrooms['habitat'] == 'l')).cumsum()).tolist())[-1]\n",
    "habm_e = ((((shrooms['edible'] == 'e') & (shrooms['habitat'] == 'm')).cumsum()).tolist())[-1]\n",
    "habp_e = ((((shrooms['edible'] == 'e') & (shrooms['habitat'] == 'p')).cumsum()).tolist())[-1]\n",
    "\n",
    "poison_vals_hab = [habu, habw, habd, habg, habl, habm, habp]\n",
    "edible_vals_hab = [habu_e, habw_e, habd_e, habg_e, habl_e, habm_e, habp_e]\n",
    "\n",
    "\n",
    "print(poison_vals_hab)\n",
    "print(edible_vals_hab)\n",
    "\n",
    "\n",
    "bar_labs_hab = [\"Urban\", \"Waste\", \"Woods\", \"Grasses\", \"Leaves\", \"Meadows\", \"Paths\"]   \n",
    "\n",
    "\n",
    "fig, ax = plt.subplots()\n",
    "\n",
    "ax.bar(bar_labs_hab, poison_vals_hab, width = 0.4, label='Poisonous', color = 'steelblue', zorder = 3)\n",
    "ax.bar(bar_labs_hab, edible_vals_hab, width = 0.4, bottom=poison_vals_hab, label='Edible', color = 'lightcoral', zorder =3)\n",
    "\n",
    "ax.set_ylabel('Counts')\n",
    "ax.set_title('Edibility of mushroom species by habitat')\n",
    "ax.legend()\n",
    "\n",
    "plt.xticks(rotation = 45)\n",
    "plt.grid(True, alpha = .4, zorder = 0)\n",
    "ax.set_ylim([0, 4000])\n",
    "\n",
    "plt.show()"
   ]
  },
  {
   "cell_type": "markdown",
   "id": "bcf89774",
   "metadata": {},
   "source": [
    "A slightly less clear picture for habitat, but still some features that would be quite informative. Mushrooms growing in urban areas, paths, and among leaves are mostly poisonous. Mushrooms growing in meadows and on waste are mostly edible. That's counterintuitive that ones growing on actual garbage are not poisonous, but interesting! We can use these clear-cut features in our models. \n",
    "\n",
    "First, since the data are entirely categorical, we will use dummy/one-hot encoding to reshape into a form the models can make use of:"
   ]
  },
  {
   "cell_type": "code",
   "execution_count": 7,
   "id": "dbff4ce8",
   "metadata": {},
   "outputs": [
    {
     "data": {
      "text/plain": [
       "['edible_e',\n",
       " 'edible_p',\n",
       " 'odor_a',\n",
       " 'odor_c',\n",
       " 'odor_f',\n",
       " 'odor_l',\n",
       " 'odor_m',\n",
       " 'odor_n',\n",
       " 'odor_p',\n",
       " 'odor_s',\n",
       " 'odor_y',\n",
       " 'habitat_d',\n",
       " 'habitat_g',\n",
       " 'habitat_l',\n",
       " 'habitat_m',\n",
       " 'habitat_p',\n",
       " 'habitat_u',\n",
       " 'habitat_w']"
      ]
     },
     "execution_count": 7,
     "metadata": {},
     "output_type": "execute_result"
    }
   ],
   "source": [
    "shrooms = shrooms[['edible', 'odor', 'habitat']]\n",
    "shrooms_dummied = pd.get_dummies(shrooms)\n",
    "list(shrooms_dummied.columns.values)"
   ]
  },
  {
   "cell_type": "markdown",
   "id": "ceb30859",
   "metadata": {},
   "source": [
    "Next, let's split the data up so we can use it for training the models. We'll use `edible_p`, which as values of 1 or 0, as the classification label.  The others (except `edible_e`) will be used as the features:"
   ]
  },
  {
   "cell_type": "code",
   "execution_count": 8,
   "id": "a8f02a6a",
   "metadata": {},
   "outputs": [],
   "source": [
    "labels = shrooms_dummied[['edible_p']]\n",
    "data = shrooms_dummied[['odor_f', 'odor_p', 'odor_s', 'odor_n', 'odor_a', 'odor_l', 'habitat_u', \n",
    "                        'habitat_w', 'habitat_p','habitat_m', 'habitat_l','odor_c', 'odor_f']]\n"
   ]
  },
  {
   "cell_type": "markdown",
   "id": "ee2466c9",
   "metadata": {},
   "source": [
    "Split the data into training and test data:"
   ]
  },
  {
   "cell_type": "code",
   "execution_count": 9,
   "id": "5d0f3ba9",
   "metadata": {},
   "outputs": [],
   "source": [
    "train_data, test_data, train_labels, test_labels = train_test_split(data,labels,test_size=0.2,random_state = 1)"
   ]
  },
  {
   "cell_type": "markdown",
   "id": "8265ab13",
   "metadata": {},
   "source": [
    "Time to fit the models. First, let's see how a KNN model performs: "
   ]
  },
  {
   "cell_type": "code",
   "execution_count": 10,
   "id": "3dfeb3c0",
   "metadata": {},
   "outputs": [
    {
     "name": "stdout",
     "output_type": "stream",
     "text": [
      "KNN: 0.9852307692307692\n"
     ]
    }
   ],
   "source": [
    "classifier = KNeighborsClassifier(n_neighbors = 3)\n",
    "classifier.fit(train_data,np.ravel(train_labels))\n",
    "print(\"KNN: \" + str(classifier.score(test_data,test_labels)))"
   ]
  },
  {
   "cell_type": "markdown",
   "id": "ec2e2c7f",
   "metadata": {},
   "source": [
    "It performs quite well, which is not surprising, given the clear-cut nature of the data. Let's see how it does on habitat alone:"
   ]
  },
  {
   "cell_type": "code",
   "execution_count": 11,
   "id": "b6de95ff",
   "metadata": {},
   "outputs": [
    {
     "name": "stdout",
     "output_type": "stream",
     "text": [
      "KNN: 0.6756923076923077\n"
     ]
    }
   ],
   "source": [
    "data = shrooms_dummied[['habitat_u', 'habitat_w', 'habitat_p','habitat_m', 'habitat_l']]\n",
    "train_data,test_data,train_labels,test_labels = train_test_split(data,labels,test_size=0.2,random_state = 1)\n",
    "classifier = KNeighborsClassifier(n_neighbors = 3)\n",
    "classifier.fit(train_data,np.ravel(train_labels))\n",
    "print(\"KNN: \" + str(classifier.score(test_data,test_labels)))"
   ]
  },
  {
   "cell_type": "markdown",
   "id": "ba2605bc",
   "metadata": {},
   "source": [
    "This degrades the performance of the model quite significantly, as might be expected. Maybe searching for a better value for *k* would improve its ability to make the classification. Let's try that out:"
   ]
  },
  {
   "cell_type": "code",
   "execution_count": 12,
   "id": "add410bb",
   "metadata": {},
   "outputs": [
    {
     "name": "stdout",
     "output_type": "stream",
     "text": [
      "Best score uses k of 3 with score of 0.6756923076923077\n"
     ]
    }
   ],
   "source": [
    "scores = []\n",
    "\n",
    "for i in range(1,51):\n",
    "    classifier = KNeighborsClassifier(n_neighbors = i)\n",
    "    train_data,test_data,train_labels,test_labels = train_test_split(data,labels,test_size=0.2,random_state = 1)\n",
    "    classifier.fit(train_data,np.ravel(train_labels))\n",
    "    scores.append(classifier.score(test_data,test_labels))\n",
    "    \n",
    "best_score = max(scores)\n",
    "print(\"Best score uses k of \" + str(scores.index(best_score) + 1) + \" with score of \" + str(best_score))"
   ]
  },
  {
   "cell_type": "markdown",
   "id": "395d4e20",
   "metadata": {},
   "source": [
    "It appears that increasing *k* doesn't offer much help. Let's go back and see how the model performs on odor by itself:"
   ]
  },
  {
   "cell_type": "code",
   "execution_count": 13,
   "id": "9df1f65c",
   "metadata": {},
   "outputs": [
    {
     "name": "stdout",
     "output_type": "stream",
     "text": [
      "KNN: 0.9803076923076923\n"
     ]
    }
   ],
   "source": [
    "data = shrooms_dummied[['odor_f', 'odor_p', 'odor_s', 'odor_n', 'odor_a', 'odor_l', 'odor_c', 'odor_f']]\n",
    "train_data,test_data,train_labels,test_labels = train_test_split(data,labels,test_size=0.2,random_state = 1)\n",
    "classifier = KNeighborsClassifier(n_neighbors = 3)\n",
    "classifier.fit(train_data,np.ravel(train_labels))\n",
    "print(\"KNN: \" + str(classifier.score(test_data,test_labels)))\n"
   ]
  },
  {
   "cell_type": "markdown",
   "id": "5c0fc300",
   "metadata": {},
   "source": [
    "Given only the different odors as features, the KNN model still performs exceptionally well - nearly as well as with odor and habitat combined. Would other types of models be so robust? With such decisive data, it seems likely, but let's try some out. Here I give the model score and confusion matrices for KNN, logistic regression, passive agressive, and SVM models using both the odor and habitat features:"
   ]
  },
  {
   "cell_type": "code",
   "execution_count": 14,
   "id": "ca90291d",
   "metadata": {},
   "outputs": [
    {
     "name": "stdout",
     "output_type": "stream",
     "text": [
      "KNN: 0.9852307692307692\n",
      "[[820   0]\n",
      " [ 24 781]]\n",
      "\n",
      "Log: 0.9803076923076923\n",
      "[[820   0]\n",
      " [ 32 773]]\n",
      "\n",
      "Pass-agg: 0.9852307692307692\n",
      "[[820   0]\n",
      " [ 24 781]]\n",
      "\n",
      "SVM: 0.9852307692307692\n",
      "[[820   0]\n",
      " [ 24 781]]\n"
     ]
    }
   ],
   "source": [
    "data = shrooms_dummied[['odor_f', 'odor_p', 'odor_s', 'odor_n', 'odor_a', 'odor_l', 'habitat_u', \n",
    "                        'habitat_w', 'habitat_p','habitat_m', 'habitat_l','odor_c', 'odor_f']]\n",
    "\n",
    "train_data,test_data,train_labels,test_labels = train_test_split(data,labels,test_size=0.2,random_state = 1)\n",
    "\n",
    "#K Nearest Neighbors\n",
    "classifier = KNeighborsClassifier(n_neighbors = 3)\n",
    "classifier.fit(train_data,np.ravel(train_labels))\n",
    "print(\"KNN: \" + str(classifier.score(test_data,test_labels)))\n",
    "y_pred = classifier.predict(test_data)\n",
    "print(confusion_matrix(test_labels, y_pred))\n",
    "\n",
    "#Logistic Regression\n",
    "logmod = LogisticRegression()\n",
    "logmod.fit(train_data,np.ravel(train_labels))\n",
    "print(\"\\nLog: \" + str(logmod.score(test_data, test_labels)))\n",
    "y_pred_lin = logmod.predict(test_data)\n",
    "print(confusion_matrix(test_labels, y_pred_lin))\n",
    "\n",
    "#Passive agressive\n",
    "passagg = PassiveAggressiveClassifier(C = 0.5)\n",
    "passagg.fit(train_data,np.ravel(train_labels))\n",
    "print(\"\\nPass-agg: \" + str(passagg.score(test_data, test_labels)))\n",
    "y_pred_passagg = passagg.predict(test_data)\n",
    "print(confusion_matrix(test_labels, y_pred_passagg))\n",
    "\n",
    "#SVM\n",
    "svm = SVC()\n",
    "svm.fit(train_data,np.ravel(train_labels))\n",
    "print(\"\\nSVM: \" + str(svm.score(test_data, test_labels)))\n",
    "y_pred_svm = svm.predict(test_data)\n",
    "print(confusion_matrix(test_labels, y_pred_svm))"
   ]
  },
  {
   "attachments": {},
   "cell_type": "markdown",
   "id": "f4a93eca",
   "metadata": {},
   "source": [
    "They all perform similarly well, which again is not surprising given the characteristics of the data. Don't use these models to decide what you eat though, in case you encounter one of the false negatives! \n",
    "\n",
    "\n",
    "<img src=\"amanita-muscaria.jpg\" width=\"200\" align=\"left\">"
   ]
  }
 ],
 "metadata": {
  "kernelspec": {
   "display_name": "Python 3 (ipykernel)",
   "language": "python",
   "name": "python3"
  },
  "language_info": {
   "codemirror_mode": {
    "name": "ipython",
    "version": 3
   },
   "file_extension": ".py",
   "mimetype": "text/x-python",
   "name": "python",
   "nbconvert_exporter": "python",
   "pygments_lexer": "ipython3",
   "version": "3.9.12"
  }
 },
 "nbformat": 4,
 "nbformat_minor": 5
}
